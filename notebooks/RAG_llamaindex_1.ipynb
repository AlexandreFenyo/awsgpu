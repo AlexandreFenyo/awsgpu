{
  "nbformat": 4,
  "nbformat_minor": 0,
  "metadata": {
    "colab": {
      "provenance": [],
      "authorship_tag": "ABX9TyMzTVMtk6FiKGS0KU32Ypni",
      "include_colab_link": true
    },
    "kernelspec": {
      "name": "python3",
      "display_name": "Python 3"
    },
    "language_info": {
      "name": "python"
    }
  },
  "cells": [
    {
      "cell_type": "markdown",
      "metadata": {
        "id": "view-in-github",
        "colab_type": "text"
      },
      "source": [
        "<a href=\"https://colab.research.google.com/github/AlexandreFenyo/awsgpu/blob/main/notebooks/RAG_llamaindex_1.ipynb\" target=\"_parent\"><img src=\"https://colab.research.google.com/assets/colab-badge.svg\" alt=\"Open In Colab\"/></a>"
      ]
    },
    {
      "cell_type": "markdown",
      "source": [
        "# RAG avec Llamaindex\n",
        "Je suis le plan d'action fourni par GPT-5-nano : \"Je veux créer un notebook dans Google Colab, pour utiliser Llamaindex afin de procéder à de la recherche de type RAG. Je ne veux pas invoquer de LLM ensuite, je me limite à récupérer des chunks via du RAG.\"\n",
        "\n",
        "J'installe les biblothèques utiles :"
      ],
      "metadata": {
        "id": "uunuUErOkiLK"
      }
    },
    {
      "cell_type": "code",
      "execution_count": null,
      "metadata": {
        "id": "c-cQICTOgMS2"
      },
      "outputs": [],
      "source": [
        "!pip -q install --upgrade llama-index llama-index-embeddings-huggingface transformers sentence-transformers # faiss-cpu"
      ]
    },
    {
      "cell_type": "markdown",
      "source": [
        "# Importations Python pour les embeddings"
      ],
      "metadata": {
        "id": "MOkcbKKmk4eB"
      }
    },
    {
      "cell_type": "code",
      "source": [
        "from google.colab import drive\n",
        "from pathlib import Path\n",
        "from llama_index.core import VectorStoreIndex, SimpleDirectoryReader\n",
        "from llama_index.embeddings.huggingface import HuggingFaceEmbedding\n",
        "from llama_index.core.node_parser import TokenTextSplitter\n",
        "from llama_index.core import Settings"
      ],
      "metadata": {
        "id": "B8PsDxQak8rB"
      },
      "execution_count": null,
      "outputs": []
    },
    {
      "cell_type": "markdown",
      "source": [
        "# Monter Drive et pointer vers les documents"
      ],
      "metadata": {
        "id": "2EVWiocgnbHZ"
      }
    },
    {
      "cell_type": "code",
      "source": [
        "drive.mount('/content/drive', force_remount=True)\n",
        "docs_dir = \"/content/drive/MyDrive/RAG_docs\"\n",
        "docs_dir_path = Path(docs_dir)\n",
        "print(\"Répertoire des documents : \", docs_dir_path, \"\\nMontage réalisé :\", docs_dir_path.exists())\n",
        "docs = SimpleDirectoryReader(input_dir=str(docs_dir_path)).load_data()"
      ],
      "metadata": {
        "colab": {
          "base_uri": "https://localhost:8080/"
        },
        "id": "QgfblDrvndZK",
        "outputId": "21307472-9217-4950-fab7-dcf94b1df8ef"
      },
      "execution_count": null,
      "outputs": [
        {
          "output_type": "stream",
          "name": "stdout",
          "text": [
            "Mounted at /content/drive\n",
            "Répertoire des documents :  /content/drive/MyDrive/RAG_docs \n",
            "Montage réalisé : True\n"
          ]
        }
      ]
    },
    {
      "cell_type": "markdown",
      "source": [
        "# Travailler avec des Embeddings locaux"
      ],
      "metadata": {
        "id": "iqMft72Gmofq"
      }
    },
    {
      "cell_type": "code",
      "source": [
        "embedding_model = HuggingFaceEmbedding(model_name=\"sentence-transformers/all-MiniLM-L6-v2\")\n",
        "Settings.embed_model = embedding_model"
      ],
      "metadata": {
        "colab": {
          "base_uri": "https://localhost:8080/"
        },
        "id": "jAADUvRhmskS",
        "outputId": "8d7b4320-3b8b-4ae8-94d4-a8ba5ab4039d"
      },
      "execution_count": null,
      "outputs": [
        {
          "output_type": "stream",
          "name": "stderr",
          "text": [
            "/usr/local/lib/python3.12/dist-packages/huggingface_hub/utils/_auth.py:94: UserWarning: \n",
            "The secret `HF_TOKEN` does not exist in your Colab secrets.\n",
            "To authenticate with the Hugging Face Hub, create a token in your settings tab (https://huggingface.co/settings/tokens), set it as secret in your Google Colab and restart your session.\n",
            "You will be able to reuse this secret in all of your notebooks.\n",
            "Please note that authentication is recommended but still optional to access public models or datasets.\n",
            "  warnings.warn(\n"
          ]
        }
      ]
    },
    {
      "cell_type": "markdown",
      "source": [
        "# Construire l'index avec VectorStoreIndex.from_documents\n",
        "\n",
        "Ce que fait VectorStoreIndex.from_documents :\n",
        "- Convertit tes documents en chunks (selon le TextSplitter que tu utilises), calcule les embeddings et les stocke dans un « vector store » (un index de vecteurs).\n",
        "- Côté récupération, il interroge ce même vector store pour trouver les chunks les plus pertinents par similarity.\n",
        "- Tu n’es pas obligé d’avoir une base externe (Weaviate, Pinecone, Qdrant, etc.). Si tu ne précises pas de vector store, llama-index utilise par défaut un stockage vectoriel en mémoire (un FAISS-like store) et peut persister sur disque via StorageContext. (developers.llamaindex.ai)\n"
      ],
      "metadata": {
        "id": "Lek5eViunB2q"
      }
    },
    {
      "cell_type": "code",
      "source": [
        "index = VectorStoreIndex.from_documents(docs, embed_model=embedding_model)"
      ],
      "metadata": {
        "id": "XQMZtMb4mrL-"
      },
      "execution_count": null,
      "outputs": []
    },
    {
      "cell_type": "markdown",
      "source": [
        "# Helper pour l'affichage des chunks selon leurs types respectifs"
      ],
      "metadata": {
        "id": "gLYSCAhcsKi7"
      }
    },
    {
      "cell_type": "code",
      "source": [
        "def extract_text(obj):\n",
        "  if hasattr(obj, \"text\"):\n",
        "    return obj.text\n",
        "  if hasattr(obj, \"node\"):\n",
        "    node = obj.node\n",
        "  if hasattr(node, \"text\"):\n",
        "    return node.text\n",
        "  if hasattr(node, \"get_text\"):\n",
        "    return node.get_text()\n",
        "  return str(obj)"
      ],
      "metadata": {
        "id": "V8K3-UZDsQDZ"
      },
      "execution_count": null,
      "outputs": []
    },
    {
      "cell_type": "markdown",
      "source": [
        "# Récupération de chunks via une requête"
      ],
      "metadata": {
        "id": "wYMJC1jtrRHi"
      }
    },
    {
      "cell_type": "code",
      "source": [
        "retriever = index.as_retriever(search_kwargs={\"k\": 5})\n",
        "retrieved_nodes = retriever.retrieve(\"ta requête\")"
      ],
      "metadata": {
        "id": "i9KkjC50rU95"
      },
      "execution_count": null,
      "outputs": []
    },
    {
      "cell_type": "markdown",
      "source": [
        "# Affichage des chunks récupérés"
      ],
      "metadata": {
        "id": "2LBUh22nskMq"
      }
    },
    {
      "cell_type": "code",
      "source": [
        "for i, n in enumerate(retrieved_nodes, start=1):\n",
        "  print(f\"--- Chunk {i} ---\")\n",
        "  print(extract_text(n))\n",
        "  print()"
      ],
      "metadata": {
        "colab": {
          "base_uri": "https://localhost:8080/"
        },
        "id": "I-2RkPcpsmh6",
        "outputId": "15cd71de-a1eb-4f91-e23a-23bd7ad502eb"
      },
      "execution_count": null,
      "outputs": [
        {
          "output_type": "stream",
          "name": "stdout",
          "text": [
            "--- Chunk 1 ---\n",
            "L’IMPORTANCE DE LA SÉCURITÉ\n",
            "Internet offre des possibilités à la fois riches et nouvelles pour la croissance \n",
            "et le développement commercial. Grâce à la diversité des services et des\n",
            "solutions désormais disponibles sur le réseau, les sociétés sont mieux \n",
            "à même de prendre soin de leur clientèle, de générer des synergies entre\n",
            "des employés géographiquement éloignés et de se créer des opportunités\n",
            "de nouveaux revenus par l’accès à une base de clients plus large et plus\n",
            "diversifiée.\n",
            "Mais si Internet a transformé et nettement amélioré les transactions \n",
            "commerciales, ce vaste réseau et les technologies qui lui correspondent \n",
            "ont ouvert la porte à un nombre croissant de menaces relatives à la sécurité\n",
            "contre lesquelles les entreprises doivent se prémunir. Bien que les attaques\n",
            "des réseaux soient généralement plus graves lorsqu’elles visent des sociétés\n",
            "qui stockent des données critiques, comme des dossiers confidentiels \n",
            "médicaux ou financiers, les conséquences de ces attaques sur une entreprise\n",
            "peuvent aller d’un léger désagrément à une paralysie complète de l’activité,\n",
            "des données importantes peuvent être perdues, la confidentialité peut être\n",
            "transgressée et plusieurs heures ou jours d’interruption du réseau peuvent\n",
            "s’en suivre.\n",
            "Maintenant, plus que jamais, il est impératif que les entreprises intègrent la\n",
            "sécurité au sein de l’architecture de leur réseau afin de limiter ces risques et\n",
            "de concrétiser le potentiel de croissance inhérent à l’environnement de réseau.\n",
            "Ces menaces génèrent assez fréquemment des alertes jugées sérieuses. \n",
            "En effet, selon une étude récente (Octobre 2003) de ZDNet.fr réalisée auprès\n",
            "de 336 décisionnaires IT en France, seulement 4,4% des sondés estiment \n",
            "qu’ils n’en ont jamais constaté, alors que 65,5 % affirment en avoir subi durant\n",
            "les trois derniers mois et 41,5% avouent avoir déploré des dégâts, suite à une\n",
            "défaillance de la sécurité.\n",
            "GUIDE SÉCURITÉ CISCO\n",
            "4\n",
            "\n",
            "--- Chunk 2 ---\n",
            "Afrique du Sud • Allemagne • Arabie saoudite • Argentine • Australie • Autriche • Belgique • Brésil • Bulgarie • Canada • Chili • Colombie • Corée\n",
            "Costa Rica • Croatie • Danemark • Dubaï, Emirats arabes unis • Ecosse • Espagne • Etats-Unis • Finlande • France • Grèce • Hong  Kong SAR\n",
            "Hongrie • Inde • Indonésie • Irlande • Israël • Italie • Japon • Luxembourg • Malaisie • Mexique • Nouvelle Zélande • Norvège •  Pays-Bas\n",
            "Pérou • Philippines •Pologne • Portugal • Porto Rico • République tchèque • Roumanie • Royaume-Uni • République populaire de Ch ine\n",
            "Russie • Singapour • Slovaquie •Slovénie • Suède • Suisse • Taiwan • Thaïlande • Turquie • Ukraine • Venezuela • Vietnam • Zimb abwe\n",
            "Copyright © 2004, Cisco Systems, Inc. Tous droits réservés. CCIP, le logo Cisco Arrow, la marque Cisco Powered Network, le logo  Cisco Systems Verified, Cisco Unity, Follow Me Browsing, FormShare, iQ Breakthrough,\n",
            "iQ Expertise, iQ FastTrack, le logo iQ, iQ Net Readiness Scorecard, Networking Academy, ScriptShare, SMARTnet, TransPath et Voi ce LAN sont des marques commerciales de Cisco Systems, Inc.; Changing the Way We\n",
            "Work, Live, Play, and Learn, Discover All That’s Possible, The Fastest Way to Increase Your Internet Quotient et iQuick Study s ont des marques de service de Cisco Systems, Inc.; et Aironet, ASIST, BPX, Catalyst, CCDA,\n",
            "CCDP, CCIE, CCNA, CCNP, Cisco, le logo Cisco Certified Internetwork Expert, Cisco IOS, le logo Cisco IOS, Cisco Press, Cisco Systems, Cisco Systems Capital, le logo Cisco Systems, Empowering the Internet Generation,\n",
            "Enterprise/Solver, EtherChannel, EtherSwitch, Fast Step, GigaStack, Internet Quotient, IOS, IP/TV, LightStream, MGX, MICA, le l ogo Networkers, Network Registrar, Packet, PIX, Post-Routing, Pre-Routing, RateMUX,\n",
            "Registrar, SlideCast, StrataView Plus, Stratm, SwitchProbe, TeleRouter et VCO sont des marques déposées de Cisco Systems, Inc. ou de ses filiales aux Etats-Unis et dans certains autres pays.\n",
            "Toutes les autres marques commerciales mentionnées dans ce document ou sur le site Web appartiennent à leurs propriétaires resp ectifs. L’utilisation du mot partenaire ne traduit pas une relation de partenariat d’entreprises\n",
            "entre Cisco et toute autre société. \n",
            "Siège social Mondial et Amérique\n",
            "Cisco Systems, Inc.\n",
            "170 West Tasman Drive\n",
            "San Jose, CA 95134-1706\n",
            "Etats-Unis\n",
            "www.cisco.com\n",
            "Tél. : 408 526-4000\n",
            "800 553 NETS (6387)\n",
            "Fax : 408 526-4100\n",
            "Siège social Européen\n",
            "Cisco Systems International BV\n",
            "Haarlerbergpark\n",
            "Haarlerbergweg 13-19\n",
            "1101 CH Amsterdam\n",
            "The Netherlands\n",
            "www-europe.cisco.com\n",
            "Tél. : +31 0 20 357 1000\n",
            "Fax : +31 0 20 357 1100\n",
            "Siège social France\n",
            "Cisco Systems France\n",
            "11 rue Camilles Desmoulins\n",
            "92782 Issy Les Moulineaux\n",
            "Cédex 9\n",
            "France\n",
            "www.cisco.fr\n",
            "Tél. : 33 1 58 04 6000\n",
            "Fax : 33 1 58 04 6100\n",
            "Siège social Asie Pacifique\n",
            "Cisco Systems, Inc.\n",
            "Capital Tower\n",
            "168 Robinson Road\n",
            "#22-01 to #29-01\n",
            "Singapour 068912\n",
            "www.cisco.com\n",
            "Tél. : +65 317 7777\n",
            "Fax : +65 317 7799\n",
            "Cisco Systems possède plus de 200 bureaux dans les pays et les régions suivantes. Vous trouverez les adresses, les numéros de téléphone et de télécopie à l’adresse suivante :\n",
            "www.cisco.com/go/offices\n",
            "\n"
          ]
        }
      ]
    }
  ]
}